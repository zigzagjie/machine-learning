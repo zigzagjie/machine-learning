{
 "cells": [
  {
   "cell_type": "markdown",
   "metadata": {},
   "source": [
    "# 10601 Week2 Concept Learning\n",
    "\n",
    "9/11/2018\n",
    "\n",
    "This week, we learned concept learning excerpted from Tom Mitchell's Book. The slide for referenced can be found here: [chapter 2](http://www.cs.cmu.edu/~roni/10601-slides/ch2.pdf)\n",
    "\n",
    "In summary, concept learning is a binary classification problem with multi-label features. In the textbook, an EnjoySports example was illustrated. Some main ideas are as follows:\n",
    "\n",
    "- Input Space:      X= (x1,x2,...,xi)\n",
    "\n",
    "     The size of X |X|: input space the total number of combinations of features. \n",
    "- A learning task: map x-->R(C)\n",
    "- Concept Space\n",
    "\n",
    "## 1. Concept Space\n",
    "\n",
    "Concept space is the entire sets of all the hypotheses. We can list all the combinations of X and give them \"+\"or \"-\". Thus, the size of concept space is |C| to the power of |X|\n",
    "\n",
    "## 2. S-Algorithm\n",
    "\n",
    "Tom Mitchell introduced s-algorithm with the conjunction hypothese. It can be summarized like that:\n",
    "   \n",
    "   - Initial step: List the most specific hypothese that is for any input features, we classify it as negative example(-), that is <null,null,...null>   \n",
    "       for each positive record in the training data:\n",
    "           if the attribute is different from the one in the hypothese:\n",
    "                      if the one in the hypothese is null:\n",
    "                             then, the attribute in the hypothese will be the attribute value\n",
    "                      elif the one in the hypothese is not null:\n",
    "                             then, the attribute in the hypothese will be ?(any value)\n",
    "\n",
    "This process is from the specific from the general. The more loose the condition is, the more general the hypothese is. S algorithm has some apparant shortbacks. The feasible hypothese is not limited to only one.\n",
    "\n",
    "## 3. List-Then-Eliminate (LTE) Algorithm\n",
    "\n",
    "Unlike S algorithm, LTE algorithm lists all the possible hypotheses and remove it if it is not consistent with the training data. It considers both the positive examples and negative examples. The set containing all the consistent hypothes is the version space.\n",
    "\n",
    "Now, Let's get us hand dirty to see some code in the curtesey of assignment 2.\n",
    "                        \n",
    "\n",
    "# Creating Input Space\n",
    "\n",
    "In the example of Titanic survival problem, we select 4 features Age, Class, Embarked, and Sex. We have one label to classify: Survived. They are all binary type."
   ]
  },
  {
   "cell_type": "code",
   "execution_count": 1,
   "metadata": {},
   "outputs": [],
   "source": [
    "Age =['Young','Old']\n",
    "Class=['1','3']\n",
    "Embarked=['Southampton','Queenstown']\n",
    "Sex=['Male','Female']\n",
    "\n",
    "Survived = ['Yes','No']"
   ]
  },
  {
   "cell_type": "markdown",
   "metadata": {},
   "source": [
    "Visualize the input space. The size of 2x2x2x2=16. There are 16 combinations. What are they? We can use itertools to list them out."
   ]
  },
  {
   "cell_type": "code",
   "execution_count": 3,
   "metadata": {},
   "outputs": [
    {
     "data": {
      "text/plain": [
       "[('Young', '1', 'Southampton', 'Male'),\n",
       " ('Young', '1', 'Southampton', 'Female'),\n",
       " ('Young', '1', 'Queenstown', 'Male'),\n",
       " ('Young', '1', 'Queenstown', 'Female'),\n",
       " ('Young', '3', 'Southampton', 'Male'),\n",
       " ('Young', '3', 'Southampton', 'Female'),\n",
       " ('Young', '3', 'Queenstown', 'Male'),\n",
       " ('Young', '3', 'Queenstown', 'Female'),\n",
       " ('Old', '1', 'Southampton', 'Male'),\n",
       " ('Old', '1', 'Southampton', 'Female'),\n",
       " ('Old', '1', 'Queenstown', 'Male'),\n",
       " ('Old', '1', 'Queenstown', 'Female'),\n",
       " ('Old', '3', 'Southampton', 'Male'),\n",
       " ('Old', '3', 'Southampton', 'Female'),\n",
       " ('Old', '3', 'Queenstown', 'Male'),\n",
       " ('Old', '3', 'Queenstown', 'Female')]"
      ]
     },
     "execution_count": 3,
     "metadata": {},
     "output_type": "execute_result"
    }
   ],
   "source": [
    "import itertools\n",
    "#The entire input space\n",
    "input_s= list(itertools.product(Age, Class,Embarked,Sex))\n",
    "input_s"
   ]
  },
  {
   "cell_type": "markdown",
   "metadata": {},
   "source": [
    "For each binary hypothesis, it has 16 classification for each case. For each condition of hypothesis, it has two values. Therefore, the concept space is 2<sup>16</sup> hypothese. As you can see, the concept space is so large. \n",
    "\n",
    "Can we list them all? Yes!"
   ]
  },
  {
   "cell_type": "code",
   "execution_count": 6,
   "metadata": {},
   "outputs": [
    {
     "data": {
      "text/plain": [
       "65536"
      ]
     },
     "execution_count": 6,
     "metadata": {},
     "output_type": "execute_result"
    }
   ],
   "source": [
    "#All hypothese space\n",
    "H=list(itertools.product(Survived,repeat=16))\n",
    "len(H)"
   ]
  },
  {
   "cell_type": "markdown",
   "metadata": {},
   "source": [
    "**The first hypothesis in the concept space**"
   ]
  },
  {
   "cell_type": "code",
   "execution_count": 9,
   "metadata": {},
   "outputs": [
    {
     "data": {
      "text/plain": [
       "[(('Young', '1', 'Southampton', 'Male'), 'Yes'),\n",
       " (('Young', '1', 'Southampton', 'Female'), 'Yes'),\n",
       " (('Young', '1', 'Queenstown', 'Male'), 'Yes'),\n",
       " (('Young', '1', 'Queenstown', 'Female'), 'Yes'),\n",
       " (('Young', '3', 'Southampton', 'Male'), 'Yes'),\n",
       " (('Young', '3', 'Southampton', 'Female'), 'Yes'),\n",
       " (('Young', '3', 'Queenstown', 'Male'), 'Yes'),\n",
       " (('Young', '3', 'Queenstown', 'Female'), 'Yes'),\n",
       " (('Old', '1', 'Southampton', 'Male'), 'Yes'),\n",
       " (('Old', '1', 'Southampton', 'Female'), 'Yes'),\n",
       " (('Old', '1', 'Queenstown', 'Male'), 'Yes'),\n",
       " (('Old', '1', 'Queenstown', 'Female'), 'Yes'),\n",
       " (('Old', '3', 'Southampton', 'Male'), 'Yes'),\n",
       " (('Old', '3', 'Southampton', 'Female'), 'Yes'),\n",
       " (('Old', '3', 'Queenstown', 'Male'), 'Yes'),\n",
       " (('Old', '3', 'Queenstown', 'Female'), 'Yes')]"
      ]
     },
     "execution_count": 9,
     "metadata": {},
     "output_type": "execute_result"
    }
   ],
   "source": [
    "list(zip(input_s,H[0]))"
   ]
  },
  {
   "cell_type": "markdown",
   "metadata": {},
   "source": [
    "# S-Algorithm\n",
    "\n"
   ]
  },
  {
   "cell_type": "code",
   "execution_count": null,
   "metadata": {},
   "outputs": [],
   "source": []
  },
  {
   "cell_type": "code",
   "execution_count": null,
   "metadata": {},
   "outputs": [],
   "source": []
  },
  {
   "cell_type": "code",
   "execution_count": null,
   "metadata": {},
   "outputs": [],
   "source": []
  },
  {
   "cell_type": "code",
   "execution_count": null,
   "metadata": {},
   "outputs": [],
   "source": []
  },
  {
   "cell_type": "code",
   "execution_count": null,
   "metadata": {},
   "outputs": [],
   "source": []
  },
  {
   "cell_type": "code",
   "execution_count": null,
   "metadata": {},
   "outputs": [],
   "source": []
  },
  {
   "cell_type": "markdown",
   "metadata": {},
   "source": [
    "# LTE Algorithm"
   ]
  },
  {
   "cell_type": "code",
   "execution_count": null,
   "metadata": {},
   "outputs": [],
   "source": []
  },
  {
   "cell_type": "code",
   "execution_count": null,
   "metadata": {},
   "outputs": [],
   "source": []
  },
  {
   "cell_type": "code",
   "execution_count": null,
   "metadata": {},
   "outputs": [],
   "source": []
  },
  {
   "cell_type": "code",
   "execution_count": null,
   "metadata": {},
   "outputs": [],
   "source": []
  },
  {
   "cell_type": "code",
   "execution_count": null,
   "metadata": {},
   "outputs": [],
   "source": []
  },
  {
   "cell_type": "code",
   "execution_count": null,
   "metadata": {},
   "outputs": [],
   "source": []
  },
  {
   "cell_type": "code",
   "execution_count": null,
   "metadata": {},
   "outputs": [],
   "source": []
  },
  {
   "cell_type": "code",
   "execution_count": null,
   "metadata": {},
   "outputs": [],
   "source": []
  },
  {
   "cell_type": "code",
   "execution_count": null,
   "metadata": {},
   "outputs": [],
   "source": []
  },
  {
   "cell_type": "code",
   "execution_count": null,
   "metadata": {},
   "outputs": [],
   "source": []
  },
  {
   "cell_type": "markdown",
   "metadata": {},
   "source": [
    "# What lesson I have learned from the assignment\n",
    "\n",
    "1. Dictionary.values() is unordered and can be changed in different systems. I ran well in windows system and output is good. However, when I tested on the linux server, the output is wrong. Dictionary sometime does not work as expected."
   ]
  },
  {
   "cell_type": "code",
   "execution_count": 10,
   "metadata": {},
   "outputs": [],
   "source": [
    "hypoth1={'Age': 'Young',\n",
    "  'Class': 1,\n",
    "  'CrewMember?': 'Yes',\n",
    "  'Embarked': 'Southampton',\n",
    "  'NearRescueBoat?': 'Yes',\n",
    "  'Sex': 'Femal',\n",
    "  'TravelingWithSibling?': 'Yes',\n",
    "  'TravelingWithSpouseOrParent?': 'Yes'}"
   ]
  },
  {
   "cell_type": "markdown",
   "metadata": {},
   "source": [
    "the order in my mind should be from Age to Travelingwithspouseorparent alphabetically. However, it can be output in other ways."
   ]
  },
  {
   "cell_type": "code",
   "execution_count": 12,
   "metadata": {},
   "outputs": [
    {
     "data": {
      "text/plain": [
       "dict_keys(['Age', 'Class', 'CrewMember?', 'Embarked', 'NearRescueBoat?', 'Sex', 'TravelingWithSibling?', 'TravelingWithSpouseOrParent?'])"
      ]
     },
     "execution_count": 12,
     "metadata": {},
     "output_type": "execute_result"
    }
   ],
   "source": [
    "hypoth1.keys()"
   ]
  },
  {
   "cell_type": "markdown",
   "metadata": {},
   "source": [
    "### It shows the way as expected. But in linux system, I get different orders! Because dictionary is not ordered. "
   ]
  },
  {
   "cell_type": "code",
   "execution_count": null,
   "metadata": {},
   "outputs": [],
   "source": []
  },
  {
   "cell_type": "code",
   "execution_count": null,
   "metadata": {},
   "outputs": [],
   "source": []
  },
  {
   "cell_type": "code",
   "execution_count": null,
   "metadata": {},
   "outputs": [],
   "source": []
  },
  {
   "cell_type": "code",
   "execution_count": null,
   "metadata": {},
   "outputs": [],
   "source": []
  },
  {
   "cell_type": "code",
   "execution_count": null,
   "metadata": {},
   "outputs": [],
   "source": []
  }
 ],
 "metadata": {
  "kernelspec": {
   "display_name": "Python 3",
   "language": "python",
   "name": "python3"
  },
  "language_info": {
   "codemirror_mode": {
    "name": "ipython",
    "version": 3
   },
   "file_extension": ".py",
   "mimetype": "text/x-python",
   "name": "python",
   "nbconvert_exporter": "python",
   "pygments_lexer": "ipython3",
   "version": "3.6.2"
  }
 },
 "nbformat": 4,
 "nbformat_minor": 2
}
